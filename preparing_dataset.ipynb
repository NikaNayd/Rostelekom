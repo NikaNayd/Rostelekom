{
  "nbformat": 4,
  "nbformat_minor": 0,
  "metadata": {
    "colab": {
      "provenance": [],
      "toc_visible": true
    },
    "kernelspec": {
      "name": "python3",
      "display_name": "Python 3"
    },
    "language_info": {
      "name": "python"
    }
  },
  "cells": [
    {
      "cell_type": "code",
      "execution_count": 1,
      "metadata": {
        "colab": {
          "base_uri": "https://localhost:8080/"
        },
        "id": "tyMXtpFS4G0p",
        "outputId": "14f76499-c749-4074-bfd7-940352df2ee4"
      },
      "outputs": [
        {
          "output_type": "stream",
          "name": "stdout",
          "text": [
            "Mounted at /content/drive/\n"
          ]
        }
      ],
      "source": [
        "from google.colab import drive\n",
        "drive.mount('/content/drive/')"
      ]
    },
    {
      "cell_type": "code",
      "source": [
        "import numpy as np\n",
        "import pandas as pd\n",
        "import seaborn as sns\n",
        "import matplotlib.pyplot as plt\n",
        "from google.colab import drive\n",
        "from sklearn.metrics import recall_score,precision_score,accuracy_score,classification_report,confusion_matrix,f1_score\n",
        "import scipy.stats as stats\n",
        "from sklearn.model_selection import train_test_split\n",
        "from sklearn.preprocessing import MinMaxScaler, StandardScaler\n",
        "from sklearn.linear_model import LinearRegression, Ridge, Lasso\n",
        "from sklearn.metrics import mean_squared_error\n",
        "from sklearn.preprocessing import PolynomialFeatures\n",
        "from xgboost import XGBRegressor\n",
        "from sklearn.metrics import r2_score"
      ],
      "metadata": {
        "id": "Z33b8J924NZh"
      },
      "execution_count": 2,
      "outputs": []
    },
    {
      "cell_type": "code",
      "source": [
        "df = pd.read_csv('/content/drive/MyDrive/dataset_RT_prepared.csv')"
      ],
      "metadata": {
        "id": "-n-DLcLI4SES"
      },
      "execution_count": 150,
      "outputs": []
    },
    {
      "cell_type": "code",
      "source": [
        "df['experience_years'] = df['total_experience.months'] / 12\n",
        "df = df[df['experience_years'] <= df['age']]\n",
        "df = df[df['salary.amount'] <= 91_000]\n",
        "df = df[df['salary.amount'] >= 20_000]"
      ],
      "metadata": {
        "id": "Br6hSbHw4hTK"
      },
      "execution_count": 151,
      "outputs": []
    },
    {
      "cell_type": "code",
      "source": [
        "df = df.dropna(subset=['salary.amount'])"
      ],
      "metadata": {
        "id": "MVxIlKDl985Z"
      },
      "execution_count": 152,
      "outputs": []
    },
    {
      "cell_type": "code",
      "source": [
        "columns_to_keep = ['vacancy_type',\n",
        "'area_orig',\n",
        "'updated_at_res',\n",
        "'age',\n",
        "'gender.id',\n",
        "'education.level.id',\n",
        "'salary.amount',\n",
        "'total_experience.months',\n",
        "]"
      ],
      "metadata": {
        "id": "hKaawcgo4mNk"
      },
      "execution_count": 153,
      "outputs": []
    },
    {
      "cell_type": "code",
      "source": [
        "df_clean_iqr=df"
      ],
      "metadata": {
        "id": "hUyuKb335dFV"
      },
      "execution_count": 154,
      "outputs": []
    },
    {
      "cell_type": "code",
      "source": [
        "df_clean_iqr = df_clean_iqr[columns_to_keep]"
      ],
      "metadata": {
        "id": "zZvQOtG25b1G"
      },
      "execution_count": 155,
      "outputs": []
    },
    {
      "cell_type": "code",
      "source": [
        "df_clean_iqr['education.level.id'] = df_clean_iqr['education.level.id'].map({'secondary': 1, 'special_secondary': 2, 'bachelor': 3, 'unfinished_higher': 4,\n",
        "                                                         'higher': 5, 'master' : 6, 'candidate' : 7,\n",
        "                                                         'doctor' : 8})"
      ],
      "metadata": {
        "colab": {
          "base_uri": "https://localhost:8080/"
        },
        "id": "hYtUEZXL8xbY",
        "outputId": "1ec0a00e-3b0c-4988-9324-2c8cb698af37"
      },
      "execution_count": 156,
      "outputs": [
        {
          "output_type": "stream",
          "name": "stderr",
          "text": [
            "<ipython-input-156-5249ce73c8d4>:1: SettingWithCopyWarning: \n",
            "A value is trying to be set on a copy of a slice from a DataFrame.\n",
            "Try using .loc[row_indexer,col_indexer] = value instead\n",
            "\n",
            "See the caveats in the documentation: https://pandas.pydata.org/pandas-docs/stable/user_guide/indexing.html#returning-a-view-versus-a-copy\n",
            "  df_clean_iqr['education.level.id'] = df_clean_iqr['education.level.id'].map({'secondary': 1, 'special_secondary': 2, 'bachelor': 3, 'unfinished_higher': 4,\n"
          ]
        }
      ]
    },
    {
      "cell_type": "code",
      "source": [
        "numeric_cols = df_clean_iqr.select_dtypes(include=['number']).columns\n",
        "\n",
        "df_clean_iqr[numeric_cols] = df_clean_iqr[numeric_cols].fillna(df_clean_iqr[numeric_cols].median())"
      ],
      "metadata": {
        "colab": {
          "base_uri": "https://localhost:8080/"
        },
        "id": "q47UYsJq8y96",
        "outputId": "797926b3-6856-462b-aa8f-9094cf294262"
      },
      "execution_count": 157,
      "outputs": [
        {
          "output_type": "stream",
          "name": "stderr",
          "text": [
            "<ipython-input-157-e53c75cef3b3>:3: SettingWithCopyWarning: \n",
            "A value is trying to be set on a copy of a slice from a DataFrame.\n",
            "Try using .loc[row_indexer,col_indexer] = value instead\n",
            "\n",
            "See the caveats in the documentation: https://pandas.pydata.org/pandas-docs/stable/user_guide/indexing.html#returning-a-view-versus-a-copy\n",
            "  df_clean_iqr[numeric_cols] = df_clean_iqr[numeric_cols].fillna(df_clean_iqr[numeric_cols].median())\n"
          ]
        }
      ]
    },
    {
      "cell_type": "code",
      "source": [
        "missing_counts = df_clean_iqr.isnull().sum()\n",
        "missing_counts"
      ],
      "metadata": {
        "colab": {
          "base_uri": "https://localhost:8080/",
          "height": 335
        },
        "id": "5Tmu0f9a87Aa",
        "outputId": "38c1cb9f-aaec-49ce-ea15-de394959c059"
      },
      "execution_count": 158,
      "outputs": [
        {
          "output_type": "execute_result",
          "data": {
            "text/plain": [
              "vacancy_type               0\n",
              "area_orig                  4\n",
              "updated_at_res             0\n",
              "age                        0\n",
              "gender.id                  0\n",
              "education.level.id         0\n",
              "salary.amount              0\n",
              "total_experience.months    0\n",
              "dtype: int64"
            ],
            "text/html": [
              "<div>\n",
              "<style scoped>\n",
              "    .dataframe tbody tr th:only-of-type {\n",
              "        vertical-align: middle;\n",
              "    }\n",
              "\n",
              "    .dataframe tbody tr th {\n",
              "        vertical-align: top;\n",
              "    }\n",
              "\n",
              "    .dataframe thead th {\n",
              "        text-align: right;\n",
              "    }\n",
              "</style>\n",
              "<table border=\"1\" class=\"dataframe\">\n",
              "  <thead>\n",
              "    <tr style=\"text-align: right;\">\n",
              "      <th></th>\n",
              "      <th>0</th>\n",
              "    </tr>\n",
              "  </thead>\n",
              "  <tbody>\n",
              "    <tr>\n",
              "      <th>vacancy_type</th>\n",
              "      <td>0</td>\n",
              "    </tr>\n",
              "    <tr>\n",
              "      <th>area_orig</th>\n",
              "      <td>4</td>\n",
              "    </tr>\n",
              "    <tr>\n",
              "      <th>updated_at_res</th>\n",
              "      <td>0</td>\n",
              "    </tr>\n",
              "    <tr>\n",
              "      <th>age</th>\n",
              "      <td>0</td>\n",
              "    </tr>\n",
              "    <tr>\n",
              "      <th>gender.id</th>\n",
              "      <td>0</td>\n",
              "    </tr>\n",
              "    <tr>\n",
              "      <th>education.level.id</th>\n",
              "      <td>0</td>\n",
              "    </tr>\n",
              "    <tr>\n",
              "      <th>salary.amount</th>\n",
              "      <td>0</td>\n",
              "    </tr>\n",
              "    <tr>\n",
              "      <th>total_experience.months</th>\n",
              "      <td>0</td>\n",
              "    </tr>\n",
              "  </tbody>\n",
              "</table>\n",
              "</div><br><label><b>dtype:</b> int64</label>"
            ]
          },
          "metadata": {},
          "execution_count": 158
        }
      ]
    },
    {
      "cell_type": "markdown",
      "source": [
        "Тут\n",
        "MSE: 249365432.4508\n",
        "MAE: 12805.9754\n",
        "RMSE: 15791.3088\n",
        "R2 Score: 0.2245"
      ],
      "metadata": {
        "id": "crVUgjqkAQIT"
      }
    },
    {
      "cell_type": "markdown",
      "source": [
        "# Adding Common Russia Macro Features (Interest Rate, Inflation)"
      ],
      "metadata": {
        "id": "Qz-Up7PMAhxF"
      }
    },
    {
      "cell_type": "code",
      "source": [
        "df_2=df_clean_iqr"
      ],
      "metadata": {
        "id": "Tukisc_UAgsb"
      },
      "execution_count": 159,
      "outputs": []
    },
    {
      "cell_type": "code",
      "source": [
        "df_2['updated_at_res'] = pd.to_datetime(df_2['updated_at_res'])\n",
        "df_2['month'] = df_2['updated_at_res'].dt.month\n",
        "df_2['year'] = df_2['updated_at_res'].dt.year"
      ],
      "metadata": {
        "colab": {
          "base_uri": "https://localhost:8080/"
        },
        "id": "AkW7He2JA5cL",
        "outputId": "cd0ac1b0-5f80-4c3b-cdef-d2f505f9e7c0"
      },
      "execution_count": 160,
      "outputs": [
        {
          "output_type": "stream",
          "name": "stderr",
          "text": [
            "<ipython-input-160-8d242cf921c5>:1: SettingWithCopyWarning: \n",
            "A value is trying to be set on a copy of a slice from a DataFrame.\n",
            "Try using .loc[row_indexer,col_indexer] = value instead\n",
            "\n",
            "See the caveats in the documentation: https://pandas.pydata.org/pandas-docs/stable/user_guide/indexing.html#returning-a-view-versus-a-copy\n",
            "  df_2['updated_at_res'] = pd.to_datetime(df_2['updated_at_res'])\n",
            "<ipython-input-160-8d242cf921c5>:2: SettingWithCopyWarning: \n",
            "A value is trying to be set on a copy of a slice from a DataFrame.\n",
            "Try using .loc[row_indexer,col_indexer] = value instead\n",
            "\n",
            "See the caveats in the documentation: https://pandas.pydata.org/pandas-docs/stable/user_guide/indexing.html#returning-a-view-versus-a-copy\n",
            "  df_2['month'] = df_2['updated_at_res'].dt.month\n",
            "<ipython-input-160-8d242cf921c5>:3: SettingWithCopyWarning: \n",
            "A value is trying to be set on a copy of a slice from a DataFrame.\n",
            "Try using .loc[row_indexer,col_indexer] = value instead\n",
            "\n",
            "See the caveats in the documentation: https://pandas.pydata.org/pandas-docs/stable/user_guide/indexing.html#returning-a-view-versus-a-copy\n",
            "  df_2['year'] = df_2['updated_at_res'].dt.year\n"
          ]
        }
      ]
    },
    {
      "cell_type": "code",
      "source": [
        "df_2=df_2.drop(columns=[ 'updated_at_res'])"
      ],
      "metadata": {
        "id": "eVa6lUenA-Iv"
      },
      "execution_count": 161,
      "outputs": []
    },
    {
      "cell_type": "code",
      "source": [
        "df_3 = pd.read_csv('/content/common_russian_info_russia_inflation_monthly_year_over_year_statbureau.csv')"
      ],
      "metadata": {
        "id": "r710Ak2NBDOU"
      },
      "execution_count": 162,
      "outputs": []
    },
    {
      "cell_type": "code",
      "source": [
        "merged_df = pd.merge(df_2,\n",
        "                    df_3[['year', 'month', 'inflation_rate', 'interest_rate'\n",
        "                    ]],\n",
        "                    on=['year', 'month'],\n",
        "                    how='left')\n",
        "\n",
        "print(\"Результат объединения:\")\n",
        "print(merged_df)"
      ],
      "metadata": {
        "colab": {
          "base_uri": "https://localhost:8080/"
        },
        "id": "XChu3XOvBEsV",
        "outputId": "f2b2158a-89bc-4188-9152-0dd57e44a7ec"
      },
      "execution_count": 163,
      "outputs": [
        {
          "output_type": "stream",
          "name": "stdout",
          "text": [
            "Результат объединения:\n",
            "                       vacancy_type  area_orig   age gender.id  \\\n",
            "0                        Агент ГАП        Чита  19.0    female   \n",
            "1                          Агент ТМ   Оренбург  20.0    female   \n",
            "2                        Агент ГАП        Чита  32.0    female   \n",
            "3                        Агент ГАП     Саратов  22.0    female   \n",
            "4                        Агент ГАП     Саратов  42.0    female   \n",
            "...                             ...        ...   ...       ...   \n",
            "61104  Менеджер по поддержке продаж  Хабаровск  26.0      male   \n",
            "61105                    Агент ГАП     Саратов  29.0      male   \n",
            "61106                    Агент ГАП        Чита  29.0    female   \n",
            "61107                    Агент ГАП     Иркутск  28.0      male   \n",
            "61108                    Агент ГАП     Иркутск  37.0    female   \n",
            "\n",
            "       education.level.id  salary.amount  total_experience.months  month  \\\n",
            "0                     2.0        40000.0                      5.0      1   \n",
            "1                     2.0        30000.0                     34.0      1   \n",
            "2                     1.0        35000.0                     83.0      1   \n",
            "3                     2.0        60000.0                     36.0     11   \n",
            "4                     5.0        60000.0                    239.0     11   \n",
            "...                   ...            ...                      ...    ...   \n",
            "61104                 2.0        70000.0                     98.0     12   \n",
            "61105                 5.0        40000.0                     93.0     11   \n",
            "61106                 2.0        50000.0                     11.0      1   \n",
            "61107                 3.0        55000.0                     80.0      1   \n",
            "61108                 2.0        45000.0                    143.0      1   \n",
            "\n",
            "       year inflation_rate interest_rate  \n",
            "0      2025           9.92            21  \n",
            "1      2025           9.92            21  \n",
            "2      2025           9.92            21  \n",
            "3      2024           8.88            21  \n",
            "4      2024           8.88            21  \n",
            "...     ...            ...           ...  \n",
            "61104  2024           9.51            21  \n",
            "61105  2024           8.88            21  \n",
            "61106  2025           9.92            21  \n",
            "61107  2025           9.92            21  \n",
            "61108  2025           9.92            21  \n",
            "\n",
            "[61109 rows x 11 columns]\n"
          ]
        }
      ]
    },
    {
      "cell_type": "code",
      "source": [
        "missing_counts = merged_df.isnull().sum()\n",
        "missing_counts"
      ],
      "metadata": {
        "colab": {
          "base_uri": "https://localhost:8080/",
          "height": 429
        },
        "id": "RmnTKJJ8BHru",
        "outputId": "4ca1ad3c-03a5-402e-962d-5f672d0cafe0"
      },
      "execution_count": 164,
      "outputs": [
        {
          "output_type": "execute_result",
          "data": {
            "text/plain": [
              "vacancy_type               0\n",
              "area_orig                  4\n",
              "age                        0\n",
              "gender.id                  0\n",
              "education.level.id         0\n",
              "salary.amount              0\n",
              "total_experience.months    0\n",
              "month                      0\n",
              "year                       0\n",
              "inflation_rate             0\n",
              "interest_rate              0\n",
              "dtype: int64"
            ],
            "text/html": [
              "<div>\n",
              "<style scoped>\n",
              "    .dataframe tbody tr th:only-of-type {\n",
              "        vertical-align: middle;\n",
              "    }\n",
              "\n",
              "    .dataframe tbody tr th {\n",
              "        vertical-align: top;\n",
              "    }\n",
              "\n",
              "    .dataframe thead th {\n",
              "        text-align: right;\n",
              "    }\n",
              "</style>\n",
              "<table border=\"1\" class=\"dataframe\">\n",
              "  <thead>\n",
              "    <tr style=\"text-align: right;\">\n",
              "      <th></th>\n",
              "      <th>0</th>\n",
              "    </tr>\n",
              "  </thead>\n",
              "  <tbody>\n",
              "    <tr>\n",
              "      <th>vacancy_type</th>\n",
              "      <td>0</td>\n",
              "    </tr>\n",
              "    <tr>\n",
              "      <th>area_orig</th>\n",
              "      <td>4</td>\n",
              "    </tr>\n",
              "    <tr>\n",
              "      <th>age</th>\n",
              "      <td>0</td>\n",
              "    </tr>\n",
              "    <tr>\n",
              "      <th>gender.id</th>\n",
              "      <td>0</td>\n",
              "    </tr>\n",
              "    <tr>\n",
              "      <th>education.level.id</th>\n",
              "      <td>0</td>\n",
              "    </tr>\n",
              "    <tr>\n",
              "      <th>salary.amount</th>\n",
              "      <td>0</td>\n",
              "    </tr>\n",
              "    <tr>\n",
              "      <th>total_experience.months</th>\n",
              "      <td>0</td>\n",
              "    </tr>\n",
              "    <tr>\n",
              "      <th>month</th>\n",
              "      <td>0</td>\n",
              "    </tr>\n",
              "    <tr>\n",
              "      <th>year</th>\n",
              "      <td>0</td>\n",
              "    </tr>\n",
              "    <tr>\n",
              "      <th>inflation_rate</th>\n",
              "      <td>0</td>\n",
              "    </tr>\n",
              "    <tr>\n",
              "      <th>interest_rate</th>\n",
              "      <td>0</td>\n",
              "    </tr>\n",
              "  </tbody>\n",
              "</table>\n",
              "</div><br><label><b>dtype:</b> int64</label>"
            ]
          },
          "metadata": {},
          "execution_count": 164
        }
      ]
    },
    {
      "cell_type": "markdown",
      "source": [
        "Тут:\n",
        "MSE: 248928115.1460\n",
        "MAE: 12795.3799\n",
        "RMSE: 15777.4559\n",
        "R2 Score: 0.2259"
      ],
      "metadata": {
        "id": "3F5rq2v-B_t0"
      }
    },
    {
      "cell_type": "markdown",
      "source": [
        "# Adding Special Features of Regions of Russia"
      ],
      "metadata": {
        "id": "w-100e_SSgG5"
      }
    },
    {
      "cell_type": "code",
      "source": [
        "df_regions=pd.read_csv('/content/avg_salsry_regions_fein - с 2019 (1).csv')"
      ],
      "metadata": {
        "id": "3Qyg47_kBseL"
      },
      "execution_count": 165,
      "outputs": []
    },
    {
      "cell_type": "code",
      "source": [
        "import pandas as pd\n",
        "\n",
        "df_regions_long = df_regions.reset_index() \\\n",
        "                          .melt(id_vars=['Region Name'],\n",
        "                                var_name='month_year',\n",
        "                                value_name='avg_salary_per_region')\n",
        "df_regions_long"
      ],
      "metadata": {
        "colab": {
          "base_uri": "https://localhost:8080/",
          "height": 423
        },
        "id": "P9ouplo7EGHB",
        "outputId": "ff5e6306-9857-48c4-854c-abf0ded05af8"
      },
      "execution_count": 166,
      "outputs": [
        {
          "output_type": "execute_result",
          "data": {
            "text/plain": [
              "                                            Region Name  month_year  \\\n",
              "0                                  Российская Федерация       index   \n",
              "1                         Центральный федеральный округ       index   \n",
              "2                                  Белгородская область       index   \n",
              "3                                      Брянская область       index   \n",
              "4                                  Владимирская область       index   \n",
              "...                                                 ...         ...   \n",
              "1381                                Сахалинская область  01.01.2025   \n",
              "1382                              Еврейская авт.область  01.01.2025   \n",
              "1383                                Чукотский авт.округ  01.01.2025   \n",
              "1384                                                NaN  01.01.2025   \n",
              "1385  1) Без учета статистической информации по Доне...  01.01.2025   \n",
              "\n",
              "      avg_salary_per_region  \n",
              "0                       0.0  \n",
              "1                       1.0  \n",
              "2                       2.0  \n",
              "3                       3.0  \n",
              "4                       4.0  \n",
              "...                     ...  \n",
              "1381               151597.0  \n",
              "1382                79279.0  \n",
              "1383               185029.0  \n",
              "1384                    NaN  \n",
              "1385                    NaN  \n",
              "\n",
              "[1386 rows x 3 columns]"
            ],
            "text/html": [
              "\n",
              "  <div id=\"df-93cec176-27c7-4e65-9988-87ec5c614497\" class=\"colab-df-container\">\n",
              "    <div>\n",
              "<style scoped>\n",
              "    .dataframe tbody tr th:only-of-type {\n",
              "        vertical-align: middle;\n",
              "    }\n",
              "\n",
              "    .dataframe tbody tr th {\n",
              "        vertical-align: top;\n",
              "    }\n",
              "\n",
              "    .dataframe thead th {\n",
              "        text-align: right;\n",
              "    }\n",
              "</style>\n",
              "<table border=\"1\" class=\"dataframe\">\n",
              "  <thead>\n",
              "    <tr style=\"text-align: right;\">\n",
              "      <th></th>\n",
              "      <th>Region Name</th>\n",
              "      <th>month_year</th>\n",
              "      <th>avg_salary_per_region</th>\n",
              "    </tr>\n",
              "  </thead>\n",
              "  <tbody>\n",
              "    <tr>\n",
              "      <th>0</th>\n",
              "      <td>Российская Федерация</td>\n",
              "      <td>index</td>\n",
              "      <td>0.0</td>\n",
              "    </tr>\n",
              "    <tr>\n",
              "      <th>1</th>\n",
              "      <td>Центральный федеральный округ</td>\n",
              "      <td>index</td>\n",
              "      <td>1.0</td>\n",
              "    </tr>\n",
              "    <tr>\n",
              "      <th>2</th>\n",
              "      <td>Белгородская область</td>\n",
              "      <td>index</td>\n",
              "      <td>2.0</td>\n",
              "    </tr>\n",
              "    <tr>\n",
              "      <th>3</th>\n",
              "      <td>Брянская область</td>\n",
              "      <td>index</td>\n",
              "      <td>3.0</td>\n",
              "    </tr>\n",
              "    <tr>\n",
              "      <th>4</th>\n",
              "      <td>Владимирская область</td>\n",
              "      <td>index</td>\n",
              "      <td>4.0</td>\n",
              "    </tr>\n",
              "    <tr>\n",
              "      <th>...</th>\n",
              "      <td>...</td>\n",
              "      <td>...</td>\n",
              "      <td>...</td>\n",
              "    </tr>\n",
              "    <tr>\n",
              "      <th>1381</th>\n",
              "      <td>Сахалинская область</td>\n",
              "      <td>01.01.2025</td>\n",
              "      <td>151597.0</td>\n",
              "    </tr>\n",
              "    <tr>\n",
              "      <th>1382</th>\n",
              "      <td>Еврейская авт.область</td>\n",
              "      <td>01.01.2025</td>\n",
              "      <td>79279.0</td>\n",
              "    </tr>\n",
              "    <tr>\n",
              "      <th>1383</th>\n",
              "      <td>Чукотский авт.округ</td>\n",
              "      <td>01.01.2025</td>\n",
              "      <td>185029.0</td>\n",
              "    </tr>\n",
              "    <tr>\n",
              "      <th>1384</th>\n",
              "      <td>NaN</td>\n",
              "      <td>01.01.2025</td>\n",
              "      <td>NaN</td>\n",
              "    </tr>\n",
              "    <tr>\n",
              "      <th>1385</th>\n",
              "      <td>1) Без учета статистической информации по Доне...</td>\n",
              "      <td>01.01.2025</td>\n",
              "      <td>NaN</td>\n",
              "    </tr>\n",
              "  </tbody>\n",
              "</table>\n",
              "<p>1386 rows × 3 columns</p>\n",
              "</div>\n",
              "    <div class=\"colab-df-buttons\">\n",
              "\n",
              "  <div class=\"colab-df-container\">\n",
              "    <button class=\"colab-df-convert\" onclick=\"convertToInteractive('df-93cec176-27c7-4e65-9988-87ec5c614497')\"\n",
              "            title=\"Convert this dataframe to an interactive table.\"\n",
              "            style=\"display:none;\">\n",
              "\n",
              "  <svg xmlns=\"http://www.w3.org/2000/svg\" height=\"24px\" viewBox=\"0 -960 960 960\">\n",
              "    <path d=\"M120-120v-720h720v720H120Zm60-500h600v-160H180v160Zm220 220h160v-160H400v160Zm0 220h160v-160H400v160ZM180-400h160v-160H180v160Zm440 0h160v-160H620v160ZM180-180h160v-160H180v160Zm440 0h160v-160H620v160Z\"/>\n",
              "  </svg>\n",
              "    </button>\n",
              "\n",
              "  <style>\n",
              "    .colab-df-container {\n",
              "      display:flex;\n",
              "      gap: 12px;\n",
              "    }\n",
              "\n",
              "    .colab-df-convert {\n",
              "      background-color: #E8F0FE;\n",
              "      border: none;\n",
              "      border-radius: 50%;\n",
              "      cursor: pointer;\n",
              "      display: none;\n",
              "      fill: #1967D2;\n",
              "      height: 32px;\n",
              "      padding: 0 0 0 0;\n",
              "      width: 32px;\n",
              "    }\n",
              "\n",
              "    .colab-df-convert:hover {\n",
              "      background-color: #E2EBFA;\n",
              "      box-shadow: 0px 1px 2px rgba(60, 64, 67, 0.3), 0px 1px 3px 1px rgba(60, 64, 67, 0.15);\n",
              "      fill: #174EA6;\n",
              "    }\n",
              "\n",
              "    .colab-df-buttons div {\n",
              "      margin-bottom: 4px;\n",
              "    }\n",
              "\n",
              "    [theme=dark] .colab-df-convert {\n",
              "      background-color: #3B4455;\n",
              "      fill: #D2E3FC;\n",
              "    }\n",
              "\n",
              "    [theme=dark] .colab-df-convert:hover {\n",
              "      background-color: #434B5C;\n",
              "      box-shadow: 0px 1px 3px 1px rgba(0, 0, 0, 0.15);\n",
              "      filter: drop-shadow(0px 1px 2px rgba(0, 0, 0, 0.3));\n",
              "      fill: #FFFFFF;\n",
              "    }\n",
              "  </style>\n",
              "\n",
              "    <script>\n",
              "      const buttonEl =\n",
              "        document.querySelector('#df-93cec176-27c7-4e65-9988-87ec5c614497 button.colab-df-convert');\n",
              "      buttonEl.style.display =\n",
              "        google.colab.kernel.accessAllowed ? 'block' : 'none';\n",
              "\n",
              "      async function convertToInteractive(key) {\n",
              "        const element = document.querySelector('#df-93cec176-27c7-4e65-9988-87ec5c614497');\n",
              "        const dataTable =\n",
              "          await google.colab.kernel.invokeFunction('convertToInteractive',\n",
              "                                                    [key], {});\n",
              "        if (!dataTable) return;\n",
              "\n",
              "        const docLinkHtml = 'Like what you see? Visit the ' +\n",
              "          '<a target=\"_blank\" href=https://colab.research.google.com/notebooks/data_table.ipynb>data table notebook</a>'\n",
              "          + ' to learn more about interactive tables.';\n",
              "        element.innerHTML = '';\n",
              "        dataTable['output_type'] = 'display_data';\n",
              "        await google.colab.output.renderOutput(dataTable, element);\n",
              "        const docLink = document.createElement('div');\n",
              "        docLink.innerHTML = docLinkHtml;\n",
              "        element.appendChild(docLink);\n",
              "      }\n",
              "    </script>\n",
              "  </div>\n",
              "\n",
              "\n",
              "    <div id=\"df-7e32df86-fb8f-47cb-85d9-d03c5e5225e9\">\n",
              "      <button class=\"colab-df-quickchart\" onclick=\"quickchart('df-7e32df86-fb8f-47cb-85d9-d03c5e5225e9')\"\n",
              "                title=\"Suggest charts\"\n",
              "                style=\"display:none;\">\n",
              "\n",
              "<svg xmlns=\"http://www.w3.org/2000/svg\" height=\"24px\"viewBox=\"0 0 24 24\"\n",
              "     width=\"24px\">\n",
              "    <g>\n",
              "        <path d=\"M19 3H5c-1.1 0-2 .9-2 2v14c0 1.1.9 2 2 2h14c1.1 0 2-.9 2-2V5c0-1.1-.9-2-2-2zM9 17H7v-7h2v7zm4 0h-2V7h2v10zm4 0h-2v-4h2v4z\"/>\n",
              "    </g>\n",
              "</svg>\n",
              "      </button>\n",
              "\n",
              "<style>\n",
              "  .colab-df-quickchart {\n",
              "      --bg-color: #E8F0FE;\n",
              "      --fill-color: #1967D2;\n",
              "      --hover-bg-color: #E2EBFA;\n",
              "      --hover-fill-color: #174EA6;\n",
              "      --disabled-fill-color: #AAA;\n",
              "      --disabled-bg-color: #DDD;\n",
              "  }\n",
              "\n",
              "  [theme=dark] .colab-df-quickchart {\n",
              "      --bg-color: #3B4455;\n",
              "      --fill-color: #D2E3FC;\n",
              "      --hover-bg-color: #434B5C;\n",
              "      --hover-fill-color: #FFFFFF;\n",
              "      --disabled-bg-color: #3B4455;\n",
              "      --disabled-fill-color: #666;\n",
              "  }\n",
              "\n",
              "  .colab-df-quickchart {\n",
              "    background-color: var(--bg-color);\n",
              "    border: none;\n",
              "    border-radius: 50%;\n",
              "    cursor: pointer;\n",
              "    display: none;\n",
              "    fill: var(--fill-color);\n",
              "    height: 32px;\n",
              "    padding: 0;\n",
              "    width: 32px;\n",
              "  }\n",
              "\n",
              "  .colab-df-quickchart:hover {\n",
              "    background-color: var(--hover-bg-color);\n",
              "    box-shadow: 0 1px 2px rgba(60, 64, 67, 0.3), 0 1px 3px 1px rgba(60, 64, 67, 0.15);\n",
              "    fill: var(--button-hover-fill-color);\n",
              "  }\n",
              "\n",
              "  .colab-df-quickchart-complete:disabled,\n",
              "  .colab-df-quickchart-complete:disabled:hover {\n",
              "    background-color: var(--disabled-bg-color);\n",
              "    fill: var(--disabled-fill-color);\n",
              "    box-shadow: none;\n",
              "  }\n",
              "\n",
              "  .colab-df-spinner {\n",
              "    border: 2px solid var(--fill-color);\n",
              "    border-color: transparent;\n",
              "    border-bottom-color: var(--fill-color);\n",
              "    animation:\n",
              "      spin 1s steps(1) infinite;\n",
              "  }\n",
              "\n",
              "  @keyframes spin {\n",
              "    0% {\n",
              "      border-color: transparent;\n",
              "      border-bottom-color: var(--fill-color);\n",
              "      border-left-color: var(--fill-color);\n",
              "    }\n",
              "    20% {\n",
              "      border-color: transparent;\n",
              "      border-left-color: var(--fill-color);\n",
              "      border-top-color: var(--fill-color);\n",
              "    }\n",
              "    30% {\n",
              "      border-color: transparent;\n",
              "      border-left-color: var(--fill-color);\n",
              "      border-top-color: var(--fill-color);\n",
              "      border-right-color: var(--fill-color);\n",
              "    }\n",
              "    40% {\n",
              "      border-color: transparent;\n",
              "      border-right-color: var(--fill-color);\n",
              "      border-top-color: var(--fill-color);\n",
              "    }\n",
              "    60% {\n",
              "      border-color: transparent;\n",
              "      border-right-color: var(--fill-color);\n",
              "    }\n",
              "    80% {\n",
              "      border-color: transparent;\n",
              "      border-right-color: var(--fill-color);\n",
              "      border-bottom-color: var(--fill-color);\n",
              "    }\n",
              "    90% {\n",
              "      border-color: transparent;\n",
              "      border-bottom-color: var(--fill-color);\n",
              "    }\n",
              "  }\n",
              "</style>\n",
              "\n",
              "      <script>\n",
              "        async function quickchart(key) {\n",
              "          const quickchartButtonEl =\n",
              "            document.querySelector('#' + key + ' button');\n",
              "          quickchartButtonEl.disabled = true;  // To prevent multiple clicks.\n",
              "          quickchartButtonEl.classList.add('colab-df-spinner');\n",
              "          try {\n",
              "            const charts = await google.colab.kernel.invokeFunction(\n",
              "                'suggestCharts', [key], {});\n",
              "          } catch (error) {\n",
              "            console.error('Error during call to suggestCharts:', error);\n",
              "          }\n",
              "          quickchartButtonEl.classList.remove('colab-df-spinner');\n",
              "          quickchartButtonEl.classList.add('colab-df-quickchart-complete');\n",
              "        }\n",
              "        (() => {\n",
              "          let quickchartButtonEl =\n",
              "            document.querySelector('#df-7e32df86-fb8f-47cb-85d9-d03c5e5225e9 button');\n",
              "          quickchartButtonEl.style.display =\n",
              "            google.colab.kernel.accessAllowed ? 'block' : 'none';\n",
              "        })();\n",
              "      </script>\n",
              "    </div>\n",
              "    </div>\n",
              "  </div>\n"
            ],
            "application/vnd.google.colaboratory.intrinsic+json": {
              "type": "dataframe",
              "variable_name": "df_regions_long",
              "summary": "{\n  \"name\": \"df_regions_long\",\n  \"rows\": 1386,\n  \"fields\": [\n    {\n      \"column\": \"Region Name\",\n      \"properties\": {\n        \"dtype\": \"category\",\n        \"num_unique_values\": 98,\n        \"samples\": [\n          \"\\u0421\\u0430\\u043c\\u0430\\u0440\\u0441\\u043a\\u0430\\u044f \\u043e\\u0431\\u043b\\u0430\\u0441\\u0442\\u044c\",\n          \"\\u0420\\u043e\\u0441\\u0442\\u043e\\u0432\\u0441\\u043a\\u0430\\u044f \\u043e\\u0431\\u043b\\u0430\\u0441\\u0442\\u044c\",\n          \"\\u0421\\u0430\\u0445\\u0430\\u043b\\u0438\\u043d\\u0441\\u043a\\u0430\\u044f \\u043e\\u0431\\u043b\\u0430\\u0441\\u0442\\u044c\"\n        ],\n        \"semantic_type\": \"\",\n        \"description\": \"\"\n      }\n    },\n    {\n      \"column\": \"month_year\",\n      \"properties\": {\n        \"dtype\": \"category\",\n        \"num_unique_values\": 14,\n        \"samples\": [\n          \"01.09.2024\",\n          \"01.11.2024\",\n          \"index\"\n        ],\n        \"semantic_type\": \"\",\n        \"description\": \"\"\n      }\n    },\n    {\n      \"column\": \"avg_salary_per_region\",\n      \"properties\": {\n        \"dtype\": \"number\",\n        \"std\": 34951.63042749716,\n        \"min\": 0.0,\n        \"max\": 281778.0,\n        \"num_unique_values\": 1338,\n        \"samples\": [\n          84891.0,\n          80443.0,\n          69413.0\n        ],\n        \"semantic_type\": \"\",\n        \"description\": \"\"\n      }\n    }\n  ]\n}"
            }
          },
          "metadata": {},
          "execution_count": 166
        }
      ]
    },
    {
      "cell_type": "code",
      "source": [
        "df_regions['Region Name'].unique()"
      ],
      "metadata": {
        "colab": {
          "base_uri": "https://localhost:8080/"
        },
        "id": "6GiZNQb1K4DN",
        "outputId": "650fe5a8-a876-4526-874e-6646330db771"
      },
      "execution_count": 167,
      "outputs": [
        {
          "output_type": "execute_result",
          "data": {
            "text/plain": [
              "array(['Российская Федерация', 'Центральный федеральный округ',\n",
              "       'Белгородская область', 'Брянская область', 'Владимирская область',\n",
              "       'Воронежская область', 'Ивановская область', 'Калужская область',\n",
              "       'Костромская область', 'Курская область', 'Липецкая область',\n",
              "       'Московская область', 'Орловская область', 'Рязанская область',\n",
              "       'Смоленская область', 'Тамбовская область', 'Тверская область',\n",
              "       'Тульская область', 'Ярославская область', 'г.Москва ',\n",
              "       'Северо-Западный федеральный округ', 'Республика Карелия',\n",
              "       'Республика Коми', 'Архангельская область',\n",
              "       'в том числе Ненецкий авт.округ',\n",
              "       'Архангельская область без авт. округа.', 'Вологодская область',\n",
              "       'Калининградская область', 'Ленинградская область',\n",
              "       'Мурманская область', 'Новгородская область', 'Псковская область',\n",
              "       'г.Санкт-Петербург', 'Южный федеральный округ  ',\n",
              "       'Республика Адыгея', 'Республика Калмыкия', 'Республика Крым',\n",
              "       'Краснодарский край', 'Астраханская область',\n",
              "       'Волгоградская область', 'Ростовская область', 'г.Севастополь',\n",
              "       'Северо-Кавказский федеральный округ', 'Республика Дагестан',\n",
              "       'Республика Ингушетия', 'Кабардино-Балкарская Республика',\n",
              "       'Карачаево-Черкесская Республика',\n",
              "       'Республика Северная  Осетия - Алания', 'Чеченская Республика',\n",
              "       'Ставропольский край', 'Приволжский федеральный округ',\n",
              "       'Республика Башкортостан', 'Республика Марий Эл',\n",
              "       'Республика Мордовия', 'Республика Татарстан',\n",
              "       'Удмуртская Республика', 'Чувашская Республика', 'Пермский край',\n",
              "       'Кировская область', 'Нижегородская область',\n",
              "       'Оренбургская область', 'Пензенская область', 'Самарская область',\n",
              "       'Саратовская область', 'Ульяновская область',\n",
              "       'Уральский федеральный округ', 'Курганская область',\n",
              "       'Свердловская область', 'Тюменская область',\n",
              "       '         в том числе:', 'Ханты-Мансийский  авт. округ - Югра',\n",
              "       'Ямало-Ненецкий авт. округ', 'Тюменская область без авт. округов',\n",
              "       'Челябинская область', 'Сибирский федеральный округ',\n",
              "       'Республика Алтай', 'Республика Тыва', 'Республика Хакасия',\n",
              "       'Алтайский край', 'Красноярский край', 'Иркутская область',\n",
              "       'Кемеровская область - Кузбасс', 'Новосибирская область',\n",
              "       'Омская область', 'Томская область',\n",
              "       'Дальневосточный федеральный округ', 'Республика Бурятия',\n",
              "       'Республика Саха (Якутия)', 'Забайкальский край',\n",
              "       'Камчатский край', 'Приморский край', 'Хабаровский край',\n",
              "       'Амурская область', 'Магаданская область', 'Сахалинская область',\n",
              "       'Еврейская авт.область', 'Чукотский авт.округ', nan,\n",
              "       '1) Без учета статистической информации по Донецкой Народной Республике (ДНР), Луганской Народной Республике (ЛНР), Запорожской и Херсонской областям.'],\n",
              "      dtype=object)"
            ]
          },
          "metadata": {},
          "execution_count": 167
        }
      ]
    },
    {
      "cell_type": "code",
      "source": [
        "df_regions_long=df_regions_long[df_regions_long['month_year']!='index']"
      ],
      "metadata": {
        "id": "Zl64a7NuEMyh"
      },
      "execution_count": 168,
      "outputs": []
    },
    {
      "cell_type": "code",
      "source": [
        "df_regions_long['month_year'] = pd.to_datetime(df_regions_long['month_year'])\n",
        "df_regions_long['month'] = df_regions_long['month_year'].dt.day\n",
        "df_regions_long['year'] = df_regions_long['month_year'].dt.year"
      ],
      "metadata": {
        "colab": {
          "base_uri": "https://localhost:8080/"
        },
        "id": "qPjfP_f7EOo7",
        "outputId": "e284b9e0-64c1-4aed-fe5c-e95fe647cded"
      },
      "execution_count": 169,
      "outputs": [
        {
          "output_type": "stream",
          "name": "stderr",
          "text": [
            "<ipython-input-169-1830e7693be3>:1: SettingWithCopyWarning: \n",
            "A value is trying to be set on a copy of a slice from a DataFrame.\n",
            "Try using .loc[row_indexer,col_indexer] = value instead\n",
            "\n",
            "See the caveats in the documentation: https://pandas.pydata.org/pandas-docs/stable/user_guide/indexing.html#returning-a-view-versus-a-copy\n",
            "  df_regions_long['month_year'] = pd.to_datetime(df_regions_long['month_year'])\n",
            "<ipython-input-169-1830e7693be3>:2: SettingWithCopyWarning: \n",
            "A value is trying to be set on a copy of a slice from a DataFrame.\n",
            "Try using .loc[row_indexer,col_indexer] = value instead\n",
            "\n",
            "See the caveats in the documentation: https://pandas.pydata.org/pandas-docs/stable/user_guide/indexing.html#returning-a-view-versus-a-copy\n",
            "  df_regions_long['month'] = df_regions_long['month_year'].dt.day\n",
            "<ipython-input-169-1830e7693be3>:3: SettingWithCopyWarning: \n",
            "A value is trying to be set on a copy of a slice from a DataFrame.\n",
            "Try using .loc[row_indexer,col_indexer] = value instead\n",
            "\n",
            "See the caveats in the documentation: https://pandas.pydata.org/pandas-docs/stable/user_guide/indexing.html#returning-a-view-versus-a-copy\n",
            "  df_regions_long['year'] = df_regions_long['month_year'].dt.year\n"
          ]
        }
      ]
    },
    {
      "cell_type": "code",
      "source": [
        "df_reg=merged_df.dropna()"
      ],
      "metadata": {
        "id": "HzrPTbEqEQF-"
      },
      "execution_count": 170,
      "outputs": []
    },
    {
      "cell_type": "code",
      "source": [
        "df_regions_oblast=pd.read_csv('/content/справочник_13.csv')"
      ],
      "metadata": {
        "id": "e4_jH6yMERwV"
      },
      "execution_count": 171,
      "outputs": []
    },
    {
      "cell_type": "code",
      "source": [
        "merged_df__reg_obl = pd.merge(df_reg,\n",
        "                    df_regions_oblast[['area_orig', 'Region Name'\n",
        "                    ]],\n",
        "                    on=['area_orig'],\n",
        "                    how='left')\n"
      ],
      "metadata": {
        "id": "nDKcaUzMETR1"
      },
      "execution_count": 172,
      "outputs": []
    },
    {
      "cell_type": "code",
      "source": [
        "\n",
        "df_avg_sal_reg = pd.merge(merged_df__reg_obl,\n",
        "                    df_regions_long[[ 'month', 'year','Region Name', 'avg_salary_per_region'\n",
        "                    ]],\n",
        "                    on=['Region Name', 'month', 'year'],\n",
        "                    how='left')\n"
      ],
      "metadata": {
        "id": "2A6dxPhWEWRT"
      },
      "execution_count": 173,
      "outputs": []
    },
    {
      "cell_type": "code",
      "source": [
        "missing_counts = df_avg_sal_reg.isnull().sum()\n",
        "missing_counts"
      ],
      "metadata": {
        "colab": {
          "base_uri": "https://localhost:8080/",
          "height": 491
        },
        "id": "e1BvDdgzEaJb",
        "outputId": "bd6a319d-538e-4381-ac9f-12a0ae60517b"
      },
      "execution_count": 174,
      "outputs": [
        {
          "output_type": "execute_result",
          "data": {
            "text/plain": [
              "vacancy_type               0\n",
              "area_orig                  0\n",
              "age                        0\n",
              "gender.id                  0\n",
              "education.level.id         0\n",
              "salary.amount              0\n",
              "total_experience.months    0\n",
              "month                      0\n",
              "year                       0\n",
              "inflation_rate             0\n",
              "interest_rate              0\n",
              "Region Name                2\n",
              "avg_salary_per_region      8\n",
              "dtype: int64"
            ],
            "text/html": [
              "<div>\n",
              "<style scoped>\n",
              "    .dataframe tbody tr th:only-of-type {\n",
              "        vertical-align: middle;\n",
              "    }\n",
              "\n",
              "    .dataframe tbody tr th {\n",
              "        vertical-align: top;\n",
              "    }\n",
              "\n",
              "    .dataframe thead th {\n",
              "        text-align: right;\n",
              "    }\n",
              "</style>\n",
              "<table border=\"1\" class=\"dataframe\">\n",
              "  <thead>\n",
              "    <tr style=\"text-align: right;\">\n",
              "      <th></th>\n",
              "      <th>0</th>\n",
              "    </tr>\n",
              "  </thead>\n",
              "  <tbody>\n",
              "    <tr>\n",
              "      <th>vacancy_type</th>\n",
              "      <td>0</td>\n",
              "    </tr>\n",
              "    <tr>\n",
              "      <th>area_orig</th>\n",
              "      <td>0</td>\n",
              "    </tr>\n",
              "    <tr>\n",
              "      <th>age</th>\n",
              "      <td>0</td>\n",
              "    </tr>\n",
              "    <tr>\n",
              "      <th>gender.id</th>\n",
              "      <td>0</td>\n",
              "    </tr>\n",
              "    <tr>\n",
              "      <th>education.level.id</th>\n",
              "      <td>0</td>\n",
              "    </tr>\n",
              "    <tr>\n",
              "      <th>salary.amount</th>\n",
              "      <td>0</td>\n",
              "    </tr>\n",
              "    <tr>\n",
              "      <th>total_experience.months</th>\n",
              "      <td>0</td>\n",
              "    </tr>\n",
              "    <tr>\n",
              "      <th>month</th>\n",
              "      <td>0</td>\n",
              "    </tr>\n",
              "    <tr>\n",
              "      <th>year</th>\n",
              "      <td>0</td>\n",
              "    </tr>\n",
              "    <tr>\n",
              "      <th>inflation_rate</th>\n",
              "      <td>0</td>\n",
              "    </tr>\n",
              "    <tr>\n",
              "      <th>interest_rate</th>\n",
              "      <td>0</td>\n",
              "    </tr>\n",
              "    <tr>\n",
              "      <th>Region Name</th>\n",
              "      <td>2</td>\n",
              "    </tr>\n",
              "    <tr>\n",
              "      <th>avg_salary_per_region</th>\n",
              "      <td>8</td>\n",
              "    </tr>\n",
              "  </tbody>\n",
              "</table>\n",
              "</div><br><label><b>dtype:</b> int64</label>"
            ]
          },
          "metadata": {},
          "execution_count": 174
        }
      ]
    },
    {
      "cell_type": "code",
      "source": [
        "df_avg_sal_reg=df_avg_sal_reg.drop_duplicates()"
      ],
      "metadata": {
        "id": "QgGB_WgrNvYK"
      },
      "execution_count": 175,
      "outputs": []
    },
    {
      "cell_type": "code",
      "source": [
        "df_avg_sal_reg.shape"
      ],
      "metadata": {
        "colab": {
          "base_uri": "https://localhost:8080/"
        },
        "id": "UnJxI_b2Nz1H",
        "outputId": "682f4e6d-4d27-42e0-df07-7ccbe0ebe42f"
      },
      "execution_count": 176,
      "outputs": [
        {
          "output_type": "execute_result",
          "data": {
            "text/plain": [
              "(59728, 13)"
            ]
          },
          "metadata": {},
          "execution_count": 176
        }
      ]
    },
    {
      "cell_type": "code",
      "source": [
        "df_regions_new=pd.read_csv('/content/macro_regions_info_cursach_s.csv')"
      ],
      "metadata": {
        "id": "EapbYODyN3ie"
      },
      "execution_count": 177,
      "outputs": []
    },
    {
      "cell_type": "code",
      "source": [
        "\n",
        "df_avg_sal_reg_n = pd.merge(df_avg_sal_reg,\n",
        "                    df_regions_new,\n",
        "                    on=['Region Name'],\n",
        "                    how='left')\n"
      ],
      "metadata": {
        "id": "CCBNfP7bOiVh"
      },
      "execution_count": 178,
      "outputs": []
    },
    {
      "cell_type": "code",
      "source": [
        "missing_counts = df_avg_sal_reg_n.isnull().sum()\n",
        "missing_counts"
      ],
      "metadata": {
        "colab": {
          "base_uri": "https://localhost:8080/",
          "height": 617
        },
        "id": "v0NKpmHROj2W",
        "outputId": "98a896a9-a2fc-4789-d6a8-a21dbb0664e2"
      },
      "execution_count": 179,
      "outputs": [
        {
          "output_type": "execute_result",
          "data": {
            "text/plain": [
              "vacancy_type                       0\n",
              "area_orig                          0\n",
              "age                                0\n",
              "gender.id                          0\n",
              "education.level.id                 0\n",
              "salary.amount                      0\n",
              "total_experience.months            0\n",
              "month                              0\n",
              "year                               0\n",
              "inflation_rate                     0\n",
              "interest_rate                      0\n",
              "Region Name                       24\n",
              "avg_salary_per_region             29\n",
              "potreb_price_fix_nabor            29\n",
              "appart_price_pervichniy_market    29\n",
              "appart_price_vtorichniy_market    29\n",
              "vrp_2023                          29\n",
              "dtype: int64"
            ],
            "text/html": [
              "<div>\n",
              "<style scoped>\n",
              "    .dataframe tbody tr th:only-of-type {\n",
              "        vertical-align: middle;\n",
              "    }\n",
              "\n",
              "    .dataframe tbody tr th {\n",
              "        vertical-align: top;\n",
              "    }\n",
              "\n",
              "    .dataframe thead th {\n",
              "        text-align: right;\n",
              "    }\n",
              "</style>\n",
              "<table border=\"1\" class=\"dataframe\">\n",
              "  <thead>\n",
              "    <tr style=\"text-align: right;\">\n",
              "      <th></th>\n",
              "      <th>0</th>\n",
              "    </tr>\n",
              "  </thead>\n",
              "  <tbody>\n",
              "    <tr>\n",
              "      <th>vacancy_type</th>\n",
              "      <td>0</td>\n",
              "    </tr>\n",
              "    <tr>\n",
              "      <th>area_orig</th>\n",
              "      <td>0</td>\n",
              "    </tr>\n",
              "    <tr>\n",
              "      <th>age</th>\n",
              "      <td>0</td>\n",
              "    </tr>\n",
              "    <tr>\n",
              "      <th>gender.id</th>\n",
              "      <td>0</td>\n",
              "    </tr>\n",
              "    <tr>\n",
              "      <th>education.level.id</th>\n",
              "      <td>0</td>\n",
              "    </tr>\n",
              "    <tr>\n",
              "      <th>salary.amount</th>\n",
              "      <td>0</td>\n",
              "    </tr>\n",
              "    <tr>\n",
              "      <th>total_experience.months</th>\n",
              "      <td>0</td>\n",
              "    </tr>\n",
              "    <tr>\n",
              "      <th>month</th>\n",
              "      <td>0</td>\n",
              "    </tr>\n",
              "    <tr>\n",
              "      <th>year</th>\n",
              "      <td>0</td>\n",
              "    </tr>\n",
              "    <tr>\n",
              "      <th>inflation_rate</th>\n",
              "      <td>0</td>\n",
              "    </tr>\n",
              "    <tr>\n",
              "      <th>interest_rate</th>\n",
              "      <td>0</td>\n",
              "    </tr>\n",
              "    <tr>\n",
              "      <th>Region Name</th>\n",
              "      <td>24</td>\n",
              "    </tr>\n",
              "    <tr>\n",
              "      <th>avg_salary_per_region</th>\n",
              "      <td>29</td>\n",
              "    </tr>\n",
              "    <tr>\n",
              "      <th>potreb_price_fix_nabor</th>\n",
              "      <td>29</td>\n",
              "    </tr>\n",
              "    <tr>\n",
              "      <th>appart_price_pervichniy_market</th>\n",
              "      <td>29</td>\n",
              "    </tr>\n",
              "    <tr>\n",
              "      <th>appart_price_vtorichniy_market</th>\n",
              "      <td>29</td>\n",
              "    </tr>\n",
              "    <tr>\n",
              "      <th>vrp_2023</th>\n",
              "      <td>29</td>\n",
              "    </tr>\n",
              "  </tbody>\n",
              "</table>\n",
              "</div><br><label><b>dtype:</b> int64</label>"
            ]
          },
          "metadata": {},
          "execution_count": 179
        }
      ]
    },
    {
      "cell_type": "code",
      "source": [],
      "metadata": {
        "id": "pfbyt4RTOn3Z"
      },
      "execution_count": 179,
      "outputs": []
    },
    {
      "cell_type": "code",
      "source": [
        "df2=pd.read_csv('/content/add_new_features_cursach_33.csv')"
      ],
      "metadata": {
        "id": "HVU4PeXNOoyV"
      },
      "execution_count": 180,
      "outputs": []
    },
    {
      "cell_type": "code",
      "source": [
        "df_all_features = pd.merge(df_avg_sal_reg_n,\n",
        "                    df2[['Region Name',\n",
        "                         'percent_children','percent_elderly','median_profit_per_person',\n",
        "                         'relation_profit_prozit_minimum','natural_prirost_rozhd',\n",
        "                         'mortality','median_salary','percent_with_internet','migration_prirost','number_top_school',\n",
        "                         'prirost_naselenia','percent_poor','rate_of_quality_life'\n",
        "                    ]],\n",
        "                    on=['Region Name'],\n",
        "                    how='left')"
      ],
      "metadata": {
        "id": "tkAaUryJOvR2"
      },
      "execution_count": 181,
      "outputs": []
    },
    {
      "cell_type": "code",
      "source": [
        "missing_counts = df_all_features.isnull().sum()\n",
        "missing_counts"
      ],
      "metadata": {
        "colab": {
          "base_uri": "https://localhost:8080/",
          "height": 1000
        },
        "id": "CEDpU7a3OxjV",
        "outputId": "046f9db1-31d9-4745-a50e-4df0196f1eb8"
      },
      "execution_count": 182,
      "outputs": [
        {
          "output_type": "execute_result",
          "data": {
            "text/plain": [
              "vacancy_type                       0\n",
              "area_orig                          0\n",
              "age                                0\n",
              "gender.id                          0\n",
              "education.level.id                 0\n",
              "salary.amount                      0\n",
              "total_experience.months            0\n",
              "month                              0\n",
              "year                               0\n",
              "inflation_rate                     0\n",
              "interest_rate                      0\n",
              "Region Name                       24\n",
              "avg_salary_per_region             29\n",
              "potreb_price_fix_nabor            29\n",
              "appart_price_pervichniy_market    29\n",
              "appart_price_vtorichniy_market    29\n",
              "vrp_2023                          29\n",
              "percent_children                  60\n",
              "percent_elderly                   60\n",
              "median_profit_per_person          60\n",
              "relation_profit_prozit_minimum    60\n",
              "natural_prirost_rozhd             60\n",
              "mortality                         60\n",
              "median_salary                     60\n",
              "percent_with_internet             60\n",
              "migration_prirost                 60\n",
              "number_top_school                 60\n",
              "prirost_naselenia                 60\n",
              "percent_poor                      60\n",
              "rate_of_quality_life              60\n",
              "dtype: int64"
            ],
            "text/html": [
              "<div>\n",
              "<style scoped>\n",
              "    .dataframe tbody tr th:only-of-type {\n",
              "        vertical-align: middle;\n",
              "    }\n",
              "\n",
              "    .dataframe tbody tr th {\n",
              "        vertical-align: top;\n",
              "    }\n",
              "\n",
              "    .dataframe thead th {\n",
              "        text-align: right;\n",
              "    }\n",
              "</style>\n",
              "<table border=\"1\" class=\"dataframe\">\n",
              "  <thead>\n",
              "    <tr style=\"text-align: right;\">\n",
              "      <th></th>\n",
              "      <th>0</th>\n",
              "    </tr>\n",
              "  </thead>\n",
              "  <tbody>\n",
              "    <tr>\n",
              "      <th>vacancy_type</th>\n",
              "      <td>0</td>\n",
              "    </tr>\n",
              "    <tr>\n",
              "      <th>area_orig</th>\n",
              "      <td>0</td>\n",
              "    </tr>\n",
              "    <tr>\n",
              "      <th>age</th>\n",
              "      <td>0</td>\n",
              "    </tr>\n",
              "    <tr>\n",
              "      <th>gender.id</th>\n",
              "      <td>0</td>\n",
              "    </tr>\n",
              "    <tr>\n",
              "      <th>education.level.id</th>\n",
              "      <td>0</td>\n",
              "    </tr>\n",
              "    <tr>\n",
              "      <th>salary.amount</th>\n",
              "      <td>0</td>\n",
              "    </tr>\n",
              "    <tr>\n",
              "      <th>total_experience.months</th>\n",
              "      <td>0</td>\n",
              "    </tr>\n",
              "    <tr>\n",
              "      <th>month</th>\n",
              "      <td>0</td>\n",
              "    </tr>\n",
              "    <tr>\n",
              "      <th>year</th>\n",
              "      <td>0</td>\n",
              "    </tr>\n",
              "    <tr>\n",
              "      <th>inflation_rate</th>\n",
              "      <td>0</td>\n",
              "    </tr>\n",
              "    <tr>\n",
              "      <th>interest_rate</th>\n",
              "      <td>0</td>\n",
              "    </tr>\n",
              "    <tr>\n",
              "      <th>Region Name</th>\n",
              "      <td>24</td>\n",
              "    </tr>\n",
              "    <tr>\n",
              "      <th>avg_salary_per_region</th>\n",
              "      <td>29</td>\n",
              "    </tr>\n",
              "    <tr>\n",
              "      <th>potreb_price_fix_nabor</th>\n",
              "      <td>29</td>\n",
              "    </tr>\n",
              "    <tr>\n",
              "      <th>appart_price_pervichniy_market</th>\n",
              "      <td>29</td>\n",
              "    </tr>\n",
              "    <tr>\n",
              "      <th>appart_price_vtorichniy_market</th>\n",
              "      <td>29</td>\n",
              "    </tr>\n",
              "    <tr>\n",
              "      <th>vrp_2023</th>\n",
              "      <td>29</td>\n",
              "    </tr>\n",
              "    <tr>\n",
              "      <th>percent_children</th>\n",
              "      <td>60</td>\n",
              "    </tr>\n",
              "    <tr>\n",
              "      <th>percent_elderly</th>\n",
              "      <td>60</td>\n",
              "    </tr>\n",
              "    <tr>\n",
              "      <th>median_profit_per_person</th>\n",
              "      <td>60</td>\n",
              "    </tr>\n",
              "    <tr>\n",
              "      <th>relation_profit_prozit_minimum</th>\n",
              "      <td>60</td>\n",
              "    </tr>\n",
              "    <tr>\n",
              "      <th>natural_prirost_rozhd</th>\n",
              "      <td>60</td>\n",
              "    </tr>\n",
              "    <tr>\n",
              "      <th>mortality</th>\n",
              "      <td>60</td>\n",
              "    </tr>\n",
              "    <tr>\n",
              "      <th>median_salary</th>\n",
              "      <td>60</td>\n",
              "    </tr>\n",
              "    <tr>\n",
              "      <th>percent_with_internet</th>\n",
              "      <td>60</td>\n",
              "    </tr>\n",
              "    <tr>\n",
              "      <th>migration_prirost</th>\n",
              "      <td>60</td>\n",
              "    </tr>\n",
              "    <tr>\n",
              "      <th>number_top_school</th>\n",
              "      <td>60</td>\n",
              "    </tr>\n",
              "    <tr>\n",
              "      <th>prirost_naselenia</th>\n",
              "      <td>60</td>\n",
              "    </tr>\n",
              "    <tr>\n",
              "      <th>percent_poor</th>\n",
              "      <td>60</td>\n",
              "    </tr>\n",
              "    <tr>\n",
              "      <th>rate_of_quality_life</th>\n",
              "      <td>60</td>\n",
              "    </tr>\n",
              "  </tbody>\n",
              "</table>\n",
              "</div><br><label><b>dtype:</b> int64</label>"
            ]
          },
          "metadata": {},
          "execution_count": 182
        }
      ]
    },
    {
      "cell_type": "code",
      "source": [
        "df_all_features=df_all_features.dropna()"
      ],
      "metadata": {
        "id": "t615ZRb6P_Pz"
      },
      "execution_count": 183,
      "outputs": []
    },
    {
      "cell_type": "code",
      "source": [
        "df_all_features=df_all_features.drop_duplicates()"
      ],
      "metadata": {
        "id": "Ski52waNQEGZ"
      },
      "execution_count": 184,
      "outputs": []
    }
  ]
}